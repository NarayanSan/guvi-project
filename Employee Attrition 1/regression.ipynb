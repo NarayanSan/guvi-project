{
 "cells": [
  {
   "cell_type": "code",
   "execution_count": null,
   "metadata": {},
   "outputs": [],
   "source": [
    "import pandas as pd\n",
    "data = pd.read_csv(\"/Users/narayansanthanam/Downloads/Employee Attrition project/Employee-Attrition - Employee-Attrition.csv\")"
   ]
  },
  {
   "cell_type": "markdown",
   "metadata": {},
   "source": [
    "predicting_rating"
   ]
  },
  {
   "cell_type": "code",
   "execution_count": 9,
   "metadata": {},
   "outputs": [
    {
     "name": "stdout",
     "output_type": "stream",
     "text": [
      "0.7517006802721088\n",
      "              precision    recall  f1-score   support\n",
      "\n",
      "           3       0.85      0.86      0.86       251\n",
      "           4       0.12      0.12      0.12        43\n",
      "\n",
      "    accuracy                           0.75       294\n",
      "   macro avg       0.49      0.49      0.49       294\n",
      "weighted avg       0.74      0.75      0.75       294\n",
      "\n"
     ]
    }
   ],
   "source": [
    "import pandas as pd\n",
    "from sklearn.tree import DecisionTreeClassifier\n",
    "from sklearn.metrics import accuracy_score, classification_report\n",
    "from sklearn.model_selection import GridSearchCV\n",
    "from sklearn.model_selection import train_test_split\n",
    "\n",
    "x = data[['YearsAtCompany','Education','YearsInCurrentRole','YearsWithCurrManager','YearsSinceLastPromotion','JobInvolvement']]\n",
    "\n",
    "y = data['PerformanceRating']\n",
    "\n",
    "decisionmodel = DecisionTreeClassifier()\n",
    "\n",
    "x_train,x_test,y_train,y_test = train_test_split(x,y,test_size=0.2,random_state=42)\n",
    "\n",
    "decisionmodel.fit(x_train,y_train)\n",
    "\n",
    "y_pred = decisionmodel.predict(x_test)\n",
    "\n",
    "print(accuracy_score(y_test,y_pred))\n",
    "print(classification_report(y_test,y_pred))"
   ]
  },
  {
   "cell_type": "code",
   "execution_count": 7,
   "metadata": {},
   "outputs": [
    {
     "name": "stdout",
     "output_type": "stream",
     "text": [
      "Model saved as performance_rating_model1.pkl ✅\n"
     ]
    }
   ],
   "source": [
    "import pickle\n",
    "\n",
    "# Save to file\n",
    "with open('performance_rating1.pkl', 'wb') as file:\n",
    "    pickle.dump(decisionmodel, file)\n",
    "\n",
    "print(\"Model saved as performance_rating_model1.pkl ✅\")"
   ]
  },
  {
   "cell_type": "code",
   "execution_count": 10,
   "metadata": {},
   "outputs": [
    {
     "name": "stdout",
     "output_type": "stream",
     "text": [
      "0.7653061224489796\n",
      "              precision    recall  f1-score   support\n",
      "\n",
      "          No       0.89      0.84      0.86       255\n",
      "         Yes       0.22      0.31      0.26        39\n",
      "\n",
      "    accuracy                           0.77       294\n",
      "   macro avg       0.55      0.57      0.56       294\n",
      "weighted avg       0.80      0.77      0.78       294\n",
      "\n",
      "[[213  42]\n",
      " [ 27  12]]\n"
     ]
    }
   ],
   "source": [
    "from sklearn.tree import DecisionTreeClassifier\n",
    "from sklearn.preprocessing import LabelEncoder\n",
    "from sklearn.metrics import classification_report, accuracy_score, confusion_matrix\n",
    "from sklearn.model_selection import GridSearchCV\n",
    "from sklearn.model_selection import train_test_split\n",
    "\n",
    "\n",
    "\n",
    "x = data[['JobSatisfaction','OverTime','Education','JobLevel','YearsAtCompany','YearsInCurrentRole','TotalWorkingYears']]\n",
    "cols = ['JobSatisfaction','OverTime','Education','JobLevel','YearsAtCompany','YearsInCurrentRole','TotalWorkingYears','Attrition']\n",
    "y = data['Attrition']\n",
    "\n",
    "\n",
    "le = LabelEncoder()\n",
    "data[cols] = data[cols].apply(le.fit_transform)\n",
    "\n",
    "x_train,x_test,y_train,y_test = train_test_split(x,y,test_size=0.2,random_state=42)\n",
    "\n",
    "dt=DecisionTreeClassifier()\n",
    "dt.fit(x_train,y_train)\n",
    "y_pred=dt.predict(x_test)\n",
    "\n",
    "\n",
    "print(accuracy_score(y_test, y_pred))\n",
    "print(classification_report(y_test, y_pred))\n",
    "print(confusion_matrix(y_test, y_pred))\n"
   ]
  },
  {
   "cell_type": "code",
   "execution_count": 11,
   "metadata": {},
   "outputs": [
    {
     "name": "stdout",
     "output_type": "stream",
     "text": [
      "0.8469387755102041\n",
      "              precision    recall  f1-score   support\n",
      "\n",
      "           0       0.95      0.88      0.91       274\n",
      "           1       0.18      0.35      0.24        20\n",
      "\n",
      "    accuracy                           0.85       294\n",
      "   macro avg       0.56      0.62      0.58       294\n",
      "weighted avg       0.90      0.85      0.87       294\n",
      "\n",
      "[[242  32]\n",
      " [ 13   7]]\n",
      "Best parameters from GridSearchCV {'criterion': 'gini', 'max_depth': 5, 'min_samples_leaf': 1, 'min_samples_split': 5}\n",
      "Best accuracy from GridSearchCV 0.8494807068157231\n",
      "\n",
      "Grid Search CV Classification Report:\n",
      "               precision    recall  f1-score   support\n",
      "\n",
      "           0       0.87      0.98      0.93       255\n",
      "           1       0.43      0.08      0.13        39\n",
      "\n",
      "    accuracy                           0.86       294\n",
      "   macro avg       0.65      0.53      0.53       294\n",
      "weighted avg       0.82      0.86      0.82       294\n",
      "\n"
     ]
    }
   ],
   "source": [
    "from sklearn.ensemble import RandomForestClassifier\n",
    "\n",
    "\n",
    "x = data[['JobSatisfaction','OverTime','Education','JobLevel','YearsAtCompany','YearsInCurrentRole','TotalWorkingYears']]\n",
    "cols = ['JobSatisfaction','OverTime','Education','JobLevel','YearsAtCompany','YearsInCurrentRole','TotalWorkingYears']\n",
    "y = data['Attrition']\n",
    "\n",
    "\n",
    "le = LabelEncoder()\n",
    "data[cols] = data[cols].apply(le.fit_transform)\n",
    "\n",
    "x_train,x_test,y_train,y_test = train_test_split(x,y,test_size=0.2,random_state=42)\n",
    "\n",
    "dt = RandomForestClassifier()\n",
    "dt.fit(x_train,y_train)\n",
    "y_pred = dt.predict(x_test)\n",
    "from sklearn.metrics import accuracy_score, classification_report, confusion_matrix\n",
    "randomforest = accuracy_score(y_pred,y_test)\n",
    "print(accuracy_score(y_pred,y_test))\n",
    "print(classification_report(y_pred,y_test))\n",
    "print(confusion_matrix(y_pred,y_test))\n",
    "\n",
    "model = RandomForestClassifier()\n",
    "param_grid = {\n",
    "   'criterion': ['gini', 'entropy','log_loss'],\n",
    "   'max_depth': [5, 10, 15, None],\n",
    "   'min_samples_split': [2, 5, 10],\n",
    "   'min_samples_leaf': [1, 2, 4]\n",
    "}\n",
    "gridcv = GridSearchCV(model,param_grid=param_grid,cv=5,scoring='accuracy',n_jobs=-1)\n",
    "gridcv.fit(x_train,y_train)\n",
    "y_pred = gridcv.predict(x_test)\n",
    "print(\"Best parameters from GridSearchCV\",gridcv.best_params_)\n",
    "print(\"Best accuracy from GridSearchCV\",gridcv.best_score_)\n",
    "best_model_grid = gridcv.best_estimator_\n",
    "y_pred_grid = best_model_grid.predict(x_test)\n",
    "randomforest1 = gridcv.best_score_\n",
    "# Performance Metrics\n",
    "print(\"\\nGrid Search CV Classification Report:\\n\", classification_report(y_test, y_pred))\n"
   ]
  },
  {
   "cell_type": "code",
   "execution_count": 46,
   "metadata": {},
   "outputs": [
    {
     "name": "stdout",
     "output_type": "stream",
     "text": [
      "Model saved as attrition rate.pkl ✅\n"
     ]
    }
   ],
   "source": [
    "import pickle\n",
    "\n",
    "# Save to file\n",
    "with open('Attrition_rate1.pkl', 'wb') as file:\n",
    "    pickle.dump(dt, file)\n",
    "\n",
    "print(\"Model saved as attrition rate.pkl ✅\")"
   ]
  },
  {
   "cell_type": "code",
   "execution_count": 47,
   "metadata": {},
   "outputs": [
    {
     "name": "stderr",
     "output_type": "stream",
     "text": [
      "/Users/narayansanthanam/anaconda3/lib/python3.11/site-packages/sklearn/base.py:439: UserWarning: X does not have valid feature names, but RandomForestClassifier was fitted with feature names\n",
      "  warnings.warn(\n"
     ]
    }
   ],
   "source": [
    "with open('Attrition_rate1.pkl', 'rb') as file:\n",
    "    loaded_dump = pickle.load(file)\n",
    "prediction=loaded_dump.predict([[1,1,3,3,6,6,7]])"
   ]
  },
  {
   "cell_type": "code",
   "execution_count": 48,
   "metadata": {},
   "outputs": [
    {
     "name": "stdout",
     "output_type": "stream",
     "text": [
      "[-1.59971628e-01  3.29561043e-03  1.54456181e-01  6.19699173e-05\n",
      "  2.24042289e-01  2.40024131e-03]\n",
      "-0.21274629500641273\n",
      "0.45597691265446294\n"
     ]
    }
   ],
   "source": [
    "features = data[['JobLevel','TotalWorkingYears','YearsInCurrentRole','MonthlyIncome','YearsAtCompany','YearsWithCurrManager']]\n",
    "target = data['YearsSinceLastPromotion']\n",
    "\n",
    "x=features\n",
    "y=target\n",
    "\n",
    "x_train,x_test,y_train,y_test = train_test_split(x,y,test_size=0.2,random_state=42)\n",
    "\n",
    "from sklearn.linear_model import LinearRegression\n",
    "linearmodel = LinearRegression()\n",
    "linearmodel.fit(x_train,y_train)\n",
    "print(linearmodel.coef_)\n",
    "print(linearmodel.intercept_)\n",
    "print(linearmodel.score(x_test,y_test))"
   ]
  },
  {
   "cell_type": "code",
   "execution_count": 50,
   "metadata": {},
   "outputs": [
    {
     "name": "stdout",
     "output_type": "stream",
     "text": [
      "Model saved as performance_rating_model1.pkl ✅\n"
     ]
    }
   ],
   "source": [
    "import pickle\n",
    "\n",
    "with open(\"EmployeePromotionLikelihood1.pkl\",'wb') as file:\n",
    "          pickle.dump(linearmodel,file)\n",
    "print(\"Model saved as performance_rating_model1.pkl ✅\")"
   ]
  },
  {
   "cell_type": "code",
   "execution_count": null,
   "metadata": {},
   "outputs": [],
   "source": []
  }
 ],
 "metadata": {
  "kernelspec": {
   "display_name": "base",
   "language": "python",
   "name": "python3"
  },
  "language_info": {
   "codemirror_mode": {
    "name": "ipython",
    "version": 3
   },
   "file_extension": ".py",
   "mimetype": "text/x-python",
   "name": "python",
   "nbconvert_exporter": "python",
   "pygments_lexer": "ipython3",
   "version": "3.11.3"
  }
 },
 "nbformat": 4,
 "nbformat_minor": 2
}
